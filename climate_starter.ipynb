{
 "cells": [
  {
   "cell_type": "code",
   "execution_count": 2,
   "metadata": {},
   "outputs": [],
   "source": [
    "%matplotlib inline\n",
    "from matplotlib import style\n",
    "style.use('fivethirtyeight')\n",
    "import matplotlib.pyplot as plt"
   ]
  },
  {
   "cell_type": "code",
   "execution_count": 3,
   "metadata": {},
   "outputs": [],
   "source": [
    "import numpy as np\n",
    "import pandas as pd\n",
    "import datetime as dt"
   ]
  },
  {
   "cell_type": "markdown",
   "metadata": {},
   "source": [
    "# Reflect Tables into SQLAlchemy ORM"
   ]
  },
  {
   "cell_type": "code",
   "execution_count": 4,
   "metadata": {},
   "outputs": [],
   "source": [
    "# Python SQL toolkit and Object Relational Mapper\n",
    "import sqlalchemy\n",
    "from sqlalchemy.ext.automap import automap_base\n",
    "from sqlalchemy.orm import Session\n",
    "from sqlalchemy import create_engine, func"
   ]
  },
  {
   "cell_type": "code",
   "execution_count": 5,
   "metadata": {},
   "outputs": [],
   "source": [
    "# create engine to hawaii.sqlite\n",
    "engine = create_engine(\"sqlite:///Resources/hawaii.sqlite\")"
   ]
  },
  {
   "cell_type": "code",
   "execution_count": 6,
   "metadata": {},
   "outputs": [],
   "source": [
    "# reflect an existing database into a new model\n",
    "Base = automap_base()\n",
    "# reflect the tables\n",
    "Base.prepare(engine, reflect=True)"
   ]
  },
  {
   "cell_type": "code",
   "execution_count": 7,
   "metadata": {},
   "outputs": [
    {
     "data": {
      "text/plain": [
       "['measurement', 'station']"
      ]
     },
     "execution_count": 7,
     "metadata": {},
     "output_type": "execute_result"
    }
   ],
   "source": [
    "# View all of the classes that automap found\n",
    "view_classes = Base.classes.keys()\n",
    "view_classes"
   ]
  },
  {
   "cell_type": "code",
   "execution_count": 8,
   "metadata": {},
   "outputs": [],
   "source": [
    "# Save references to each table\n",
    "Measurement = Base.classes.measurement   # Class I\n",
    "Station = Base.classes.station           # Class II"
   ]
  },
  {
   "cell_type": "code",
   "execution_count": 9,
   "metadata": {},
   "outputs": [],
   "source": [
    "# Create our session (link) from Python to the DB\n",
    "session = Session(engine)"
   ]
  },
  {
   "cell_type": "markdown",
   "metadata": {},
   "source": [
    "# Exploratory Precipitation Analysis"
   ]
  },
  {
   "cell_type": "code",
   "execution_count": 10,
   "metadata": {},
   "outputs": [
    {
     "data": {
      "text/plain": [
       "('2017-08-23')"
      ]
     },
     "execution_count": 10,
     "metadata": {},
     "output_type": "execute_result"
    }
   ],
   "source": [
    "# Find the most recent date in the data set.\n",
    "most_recent_date = session.query(Measurement.date).order_by(Measurement.date.desc()).first()\n",
    "most_recent_date"
   ]
  },
  {
   "cell_type": "code",
   "execution_count": 12,
   "metadata": {},
   "outputs": [],
   "source": [
    "# Design a query to retrieve the last 12 months of precipitation data and plot the results.\n",
    "# Starting from the most recent data point in the database.\n",
    "# Calculate the date one year from the last date in data set.\n",
    "# Perform a query to retrieve the data and precipitation scores\n",
    "last_12mo_precipitation = session.query(Measurement.date, Measurement.prcp).\\\n",
    "        filter(Measurement.date >= '2016-08-24').filter(Measurement.date <= '2017-08-23').group_by(Measurement.date).all()\n",
    "# last_12mo_precipitation"
   ]
  },
  {
   "cell_type": "code",
   "execution_count": 15,
   "metadata": {},
   "outputs": [
    {
     "data": {
      "text/html": [
       "<div>\n",
       "<style scoped>\n",
       "    .dataframe tbody tr th:only-of-type {\n",
       "        vertical-align: middle;\n",
       "    }\n",
       "\n",
       "    .dataframe tbody tr th {\n",
       "        vertical-align: top;\n",
       "    }\n",
       "\n",
       "    .dataframe thead th {\n",
       "        text-align: right;\n",
       "    }\n",
       "</style>\n",
       "<table border=\"1\" class=\"dataframe\">\n",
       "  <thead>\n",
       "    <tr style=\"text-align: right;\">\n",
       "      <th></th>\n",
       "      <th>Precipitation</th>\n",
       "    </tr>\n",
       "    <tr>\n",
       "      <th>Date</th>\n",
       "      <th></th>\n",
       "    </tr>\n",
       "  </thead>\n",
       "  <tbody>\n",
       "    <tr>\n",
       "      <th>2016-08-24</th>\n",
       "      <td>0.08</td>\n",
       "    </tr>\n",
       "    <tr>\n",
       "      <th>2016-08-25</th>\n",
       "      <td>0.08</td>\n",
       "    </tr>\n",
       "    <tr>\n",
       "      <th>2016-08-26</th>\n",
       "      <td>0.00</td>\n",
       "    </tr>\n",
       "    <tr>\n",
       "      <th>2016-08-27</th>\n",
       "      <td>0.00</td>\n",
       "    </tr>\n",
       "    <tr>\n",
       "      <th>2016-08-28</th>\n",
       "      <td>0.01</td>\n",
       "    </tr>\n",
       "    <tr>\n",
       "      <th>...</th>\n",
       "      <td>...</td>\n",
       "    </tr>\n",
       "    <tr>\n",
       "      <th>2017-08-19</th>\n",
       "      <td>0.00</td>\n",
       "    </tr>\n",
       "    <tr>\n",
       "      <th>2017-08-20</th>\n",
       "      <td>0.00</td>\n",
       "    </tr>\n",
       "    <tr>\n",
       "      <th>2017-08-21</th>\n",
       "      <td>0.00</td>\n",
       "    </tr>\n",
       "    <tr>\n",
       "      <th>2017-08-22</th>\n",
       "      <td>0.00</td>\n",
       "    </tr>\n",
       "    <tr>\n",
       "      <th>2017-08-23</th>\n",
       "      <td>0.00</td>\n",
       "    </tr>\n",
       "  </tbody>\n",
       "</table>\n",
       "<p>365 rows × 1 columns</p>\n",
       "</div>"
      ],
      "text/plain": [
       "            Precipitation\n",
       "Date                     \n",
       "2016-08-24           0.08\n",
       "2016-08-25           0.08\n",
       "2016-08-26           0.00\n",
       "2016-08-27           0.00\n",
       "2016-08-28           0.01\n",
       "...                   ...\n",
       "2017-08-19           0.00\n",
       "2017-08-20           0.00\n",
       "2017-08-21           0.00\n",
       "2017-08-22           0.00\n",
       "2017-08-23           0.00\n",
       "\n",
       "[365 rows x 1 columns]"
      ]
     },
     "execution_count": 15,
     "metadata": {},
     "output_type": "execute_result"
    }
   ],
   "source": [
    "# Save the query results as a Pandas DataFrame and set the index to the date column\n",
    "precipitation_df = pd.DataFrame(last_12mo_precipitation, columns=['Date', 'Precipitation'])\n",
    "precipitation_df.set_index('Date',inplace=True)\n",
    "\n",
    "# Sort the dataframe by date\n",
    "precipitation_df.sort_values(by=['Date'])\n",
    "\n",
    "precipitation_df"
   ]
  },
  {
   "cell_type": "code",
   "execution_count": 25,
   "metadata": {},
   "outputs": [
    {
     "data": {
      "image/png": "[encoded data removed]",
      "text/plain": [
       "<Figure size 720x432 with 1 Axes>"
      ]
     },
     "metadata": {},
     "output_type": "display_data"
    }
   ],
   "source": [
    "# Use Pandas Plotting with Matplotlib to plot the data\n",
    "precipitation_df.plot(x_compat=True, figsize=(10,6))\n",
    "plt.ylabel(\"Precipitation (in)\")\n",
    "plt.xlabel(\"Date\")\n",
    "plt.xticks(rotation='60')\n",
    "plt.show()"
   ]
  },
  {
   "cell_type": "code",
   "execution_count": 16,
   "metadata": {},
   "outputs": [
    {
     "data": {
      "text/html": [
       "<div>\n",
       "<style scoped>\n",
       "    .dataframe tbody tr th:only-of-type {\n",
       "        vertical-align: middle;\n",
       "    }\n",
       "\n",
       "    .dataframe tbody tr th {\n",
       "        vertical-align: top;\n",
       "    }\n",
       "\n",
       "    .dataframe thead th {\n",
       "        text-align: right;\n",
       "    }\n",
       "</style>\n",
       "<table border=\"1\" class=\"dataframe\">\n",
       "  <thead>\n",
       "    <tr style=\"text-align: right;\">\n",
       "      <th></th>\n",
       "      <th>Precipitation</th>\n",
       "    </tr>\n",
       "  </thead>\n",
       "  <tbody>\n",
       "    <tr>\n",
       "      <th>count</th>\n",
       "      <td>363.000000</td>\n",
       "    </tr>\n",
       "    <tr>\n",
       "      <th>mean</th>\n",
       "      <td>0.048843</td>\n",
       "    </tr>\n",
       "    <tr>\n",
       "      <th>std</th>\n",
       "      <td>0.205197</td>\n",
       "    </tr>\n",
       "    <tr>\n",
       "      <th>min</th>\n",
       "      <td>0.000000</td>\n",
       "    </tr>\n",
       "    <tr>\n",
       "      <th>25%</th>\n",
       "      <td>0.000000</td>\n",
       "    </tr>\n",
       "    <tr>\n",
       "      <th>50%</th>\n",
       "      <td>0.000000</td>\n",
       "    </tr>\n",
       "    <tr>\n",
       "      <th>75%</th>\n",
       "      <td>0.020000</td>\n",
       "    </tr>\n",
       "    <tr>\n",
       "      <th>max</th>\n",
       "      <td>2.620000</td>\n",
       "    </tr>\n",
       "  </tbody>\n",
       "</table>\n",
       "</div>"
      ],
      "text/plain": [
       "       Precipitation\n",
       "count     363.000000\n",
       "mean        0.048843\n",
       "std         0.205197\n",
       "min         0.000000\n",
       "25%         0.000000\n",
       "50%         0.000000\n",
       "75%         0.020000\n",
       "max         2.620000"
      ]
     },
     "execution_count": 16,
     "metadata": {},
     "output_type": "execute_result"
    }
   ],
   "source": [
    "# Use Pandas to calcualte the summary statistics for the precipitation data\n",
    "precipitation_df.describe()"
   ]
  },
  {
   "cell_type": "markdown",
   "metadata": {},
   "source": [
    "# Exploratory Station Analysis"
   ]
  },
  {
   "cell_type": "code",
   "execution_count": 26,
   "metadata": {},
   "outputs": [
    {
     "data": {
      "text/plain": [
       "9"
      ]
     },
     "execution_count": 26,
     "metadata": {},
     "output_type": "execute_result"
    }
   ],
   "source": [
    "# Design a query to calculate the total number stations in the dataset\n",
    "station_count = session.query(Station.id).count()\n",
    "station_count"
   ]
  },
  {
   "cell_type": "code",
   "execution_count": 27,
   "metadata": {},
   "outputs": [
    {
     "data": {
      "text/plain": [
       "[('USC00519281', 2772),\n",
       " ('USC00519397', 2724),\n",
       " ('USC00513117', 2709),\n",
       " ('USC00519523', 2669),\n",
       " ('USC00516128', 2612),\n",
       " ('USC00514830', 2202),\n",
       " ('USC00511918', 1979),\n",
       " ('USC00517948', 1372),\n",
       " ('USC00518838', 511)]"
      ]
     },
     "execution_count": 27,
     "metadata": {},
     "output_type": "execute_result"
    }
   ],
   "source": [
    "# Design a query to find the most active stations (i.e. what stations have the most rows?)\n",
    "# List the stations and the counts in descending order.\n",
    "station_results = session.query(Measurement.station, func.count(Measurement.station)).\\\n",
    "            group_by(Measurement.station).\\\n",
    "            order_by(func.count(Measurement.station).desc()).all()\n",
    "station_results"
   ]
  },
  {
   "cell_type": "code",
   "execution_count": 32,
   "metadata": {},
   "outputs": [
    {
     "data": {
      "text/plain": [
       "[(54.0, 71.66378066378067, 85.0)]"
      ]
     },
     "execution_count": 32,
     "metadata": {},
     "output_type": "execute_result"
    }
   ],
   "source": [
    "# Using the most active station id from the previous query, calculate the lowest, highest, and average temperature.\n",
    "most_active = station_results[0][0]\n",
    "station_stats = [func.min(Measurement.tobs), func.avg(Measurement.tobs), func.max(Measurement.tobs)]\n",
    "session.query(*station_stats).\\\n",
    "                filter(Measurement.station == most_active).all()"
   ]
  },
  {
   "cell_type": "code",
   "execution_count": 40,
   "metadata": {},
   "outputs": [
    {
     "data": {
      "text/plain": [
       "('2017-08-18')"
      ]
     },
     "execution_count": 40,
     "metadata": {},
     "output_type": "execute_result"
    }
   ],
   "source": [
    "# Using the most active station id\n",
    "# Query the last 12 months of temperature observation data for this station and plot the results as a histogram\n",
    "\n",
    "# Most recent date\n",
    "most_recent_date = session.query(Measurement.date).\\\n",
    "                            filter(Measurement.station == most_active).\\\n",
    "                            order_by(Measurement.date.desc()).first()\n",
    "most_recent_date"
   ]
  },
  {
   "cell_type": "code",
   "execution_count": 41,
   "metadata": {},
   "outputs": [
    {
     "ename": "ObjectNotExecutableError",
     "evalue": "Not an executable object: [<sqlalchemy.ext.automap.measurement object at 0x000001E1AE2A4B80>, <sqlalchemy.ext.automap.measurement object at 0x000001E1AE2A4EB0>, <sqlalchemy.ext.automap.measurement object at 0x000001E1AE711E50>, <sqlalchemy.ext.automap.measurement object at 0x000001E1AE711EB0>, <sqlalchemy.ext.automap.measurement object at 0x000001E1AE711F10>, <sqlalchemy.ext.automap.measurement object at 0x000001E1AE711F70>, <sqlalchemy.ext.automap.measurement object at 0x000001E1AE711FD0>, <sqlalchemy.ext.automap.measurement object at 0x000001E1AE713070>, <sqlalchemy.ext.automap.measurement object at 0x000001E1AE7130D0>, <sqlalchemy.ext.automap.measurement object at 0x000001E1AE713130>, <sqlalchemy.ext.automap.measurement object at 0x000001E1AE713190>, <sqlalchemy.ext.automap.measurement object at 0x000001E1AE7131F0>, <sqlalchemy.ext.automap.measurement object at 0x000001E1AE713250>, <sqlalchemy.ext.automap.measurement object at 0x000001E1AE7132B0>, <sqlalchemy.ext.automap.measurement object at 0x000001E1AE713310>, <sqlalchemy.ext.automap.measurement object at 0x000001E1AE713370>, <sqlalchemy.ext.automap.measurement object at 0x000001E1ACC7D700>, <sqlalchemy.ext.automap.measurement object at 0x000001E1AE0A5D00>, <sqlalchemy.ext.automap.measurement object at 0x000001E1AE713400>, <sqlalchemy.ext.automap.measurement object at 0x000001E1AE713460>, <sqlalchemy.ext.automap.measurement object at 0x000001E1AE7134C0>, <sqlalchemy.ext.automap.measurement object at 0x000001E1AE713520>, <sqlalchemy.ext.automap.measurement object at 0x000001E1AE713580>, <sqlalchemy.ext.automap.measurement object at 0x000001E1AE7135E0>, <sqlalchemy.ext.automap.measurement object at 0x000001E1AE713640>, <sqlalchemy.ext.automap.measurement object at 0x000001E1AE7136A0>, <sqlalchemy.ext.automap.measurement object at 0x000001E1AE713700>, <sqlalchemy.ext.automap.measurement object at 0x000001E1AE713760>, <sqlalchemy.ext.automap.measurement object at 0x000001E1AE7137C0>, <sqlalchemy.ext.automap.measurement object at 0x000001E1AE713820>, <sqlalchemy.ext.automap.measurement object at 0x000001E1AE713880>, <sqlalchemy.ext.automap.measurement object at 0x000001E1AE7138E0>, <sqlalchemy.ext.automap.measurement object at 0x000001E1AE713940>, <sqlalchemy.ext.automap.measurement object at 0x000001E1AE7139A0>, <sqlalchemy.ext.automap.measurement object at 0x000001E1AE713A00>, <sqlalchemy.ext.automap.measurement object at 0x000001E1AE713A60>, <sqlalchemy.ext.automap.measurement object at 0x000001E1AE713AC0>, <sqlalchemy.ext.automap.measurement object at 0x000001E1AE713B20>, <sqlalchemy.ext.automap.measurement object at 0x000001E1AE713B80>, <sqlalchemy.ext.automap.measurement object at 0x000001E1AE713BE0>, <sqlalchemy.ext.automap.measurement object at 0x000001E1AE713C40>, <sqlalchemy.ext.automap.measurement object at 0x000001E1AE713CA0>, <sqlalchemy.ext.automap.measurement object at 0x000001E1AE713D00>, <sqlalchemy.ext.automap.measurement object at 0x000001E1AE713D60>, <sqlalchemy.ext.automap.measurement object at 0x000001E1AE713DC0>, <sqlalchemy.ext.automap.measurement object at 0x000001E1AE713E20>, <sqlalchemy.ext.automap.measurement object at 0x000001E1AE713E80>, <sqlalchemy.ext.automap.measurement object at 0x000001E1AE713EE0>, <sqlalchemy.ext.automap.measurement object at 0x000001E1AE713F40>, <sqlalchemy.ext.automap.measurement object at 0x000001E1AE713FA0>, <sqlalchemy.ext.automap.measurement object at 0x000001E1AE713FD0>, <sqlalchemy.ext.automap.measurement object at 0x000001E1AE71E0A0>, <sqlalchemy.ext.automap.measurement object at 0x000001E1AE71E100>, <sqlalchemy.ext.automap.measurement object at 0x000001E1AE71E160>, <sqlalchemy.ext.automap.measurement object at 0x000001E1AE71E1C0>, <sqlalchemy.ext.automap.measurement object at 0x000001E1AE71E220>, <sqlalchemy.ext.automap.measurement object at 0x000001E1AE71E280>, <sqlalchemy.ext.automap.measurement object at 0x000001E1AE71E2E0>, <sqlalchemy.ext.automap.measurement object at 0x000001E1AE71E340>, <sqlalchemy.ext.automap.measurement object at 0x000001E1AE71E3A0>, <sqlalchemy.ext.automap.measurement object at 0x000001E1AE71E400>, <sqlalchemy.ext.automap.measurement object at 0x000001E1AE71E460>, <sqlalchemy.ext.automap.measurement object at 0x000001E1AE71E4C0>, <sqlalchemy.ext.automap.measurement object at 0x000001E1AE71E520>, <sqlalchemy.ext.automap.measurement object at 0x000001E1AE71E580>, <sqlalchemy.ext.automap.measurement object at 0x000001E1AE71E5E0>, <sqlalchemy.ext.automap.measurement object at 0x000001E1AE71E640>, <sqlalchemy.ext.automap.measurement object at 0x000001E1AE71E6A0>, <sqlalchemy.ext.automap.measurement object at 0x000001E1AE71E700>, <sqlalchemy.ext.automap.measurement object at 0x000001E1AE71E760>, <sqlalchemy.ext.automap.measurement object at 0x000001E1AE71E7C0>, <sqlalchemy.ext.automap.measurement object at 0x000001E1AE71E820>, <sqlalchemy.ext.automap.measurement object at 0x000001E1AE71E880>, <sqlalchemy.ext.automap.measurement object at 0x000001E1AE71E8E0>, <sqlalchemy.ext.automap.measurement object at 0x000001E1AE71E940>, <sqlalchemy.ext.automap.measurement object at 0x000001E1AE71E9A0>, <sqlalchemy.ext.automap.measurement object at 0x000001E1AE71EA00>, <sqlalchemy.ext.automap.measurement object at 0x000001E1AE71EA60>, <sqlalchemy.ext.automap.measurement object at 0x000001E1AE71EAC0>, <sqlalchemy.ext.automap.measurement object at 0x000001E1AE71EB20>, <sqlalchemy.ext.automap.measurement object at 0x000001E1AE71EB80>, <sqlalchemy.ext.automap.measurement object at 0x000001E1AE71EBE0>, <sqlalchemy.ext.automap.measurement object at 0x000001E1AE71EC40>, <sqlalchemy.ext.automap.measurement object at 0x000001E1AE71ECA0>, <sqlalchemy.ext.automap.measurement object at 0x000001E1AE71ED00>, <sqlalchemy.ext.automap.measurement object at 0x000001E1AE71ED60>, <sqlalchemy.ext.automap.measurement object at 0x000001E1AE71EDC0>, <sqlalchemy.ext.automap.measurement object at 0x000001E1AE71EE20>, <sqlalchemy.ext.automap.measurement object at 0x000001E1AE71EE80>, <sqlalchemy.ext.automap.measurement object at 0x000001E1AE71EEE0>, <sqlalchemy.ext.automap.measurement object at 0x000001E1AE71EF40>, <sqlalchemy.ext.automap.measurement object at 0x000001E1AE71EFA0>, <sqlalchemy.ext.automap.measurement object at 0x000001E1AE71EFD0>, <sqlalchemy.ext.automap.measurement object at 0x000001E1AE72B0A0>, <sqlalchemy.ext.automap.measurement object at 0x000001E1AE72B100>, <sqlalchemy.ext.automap.measurement object at 0x000001E1AE72B160>, <sqlalchemy.ext.automap.measurement object at 0x000001E1AE72B1C0>, <sqlalchemy.ext.automap.measurement object at 0x000001E1AE72B220>, <sqlalchemy.ext.automap.measurement object at 0x000001E1AE72B280>, <sqlalchemy.ext.automap.measurement object at 0x000001E1AE72B2E0>, <sqlalchemy.ext.automap.measurement object at 0x000001E1AE72B340>, <sqlalchemy.ext.automap.measurement object at 0x000001E1AE72B3A0>, <sqlalchemy.ext.automap.measurement object at 0x000001E1AE72B400>, <sqlalchemy.ext.automap.measurement object at 0x000001E1AE72B460>, <sqlalchemy.ext.automap.measurement object at 0x000001E1AE72B4C0>, <sqlalchemy.ext.automap.measurement object at 0x000001E1AE72B520>, <sqlalchemy.ext.automap.measurement object at 0x000001E1AE72B580>, <sqlalchemy.ext.automap.measurement object at 0x000001E1AE72B5E0>, <sqlalchemy.ext.automap.measurement object at 0x000001E1AE72B640>, <sqlalchemy.ext.automap.measurement object at 0x000001E1AE72B6A0>, <sqlalchemy.ext.automap.measurement object at 0x000001E1AE72B700>, <sqlalchemy.ext.automap.measurement object at 0x000001E1AE72B760>, <sqlalchemy.ext.automap.measurement object at 0x000001E1AE72B7C0>, <sqlalchemy.ext.automap.measurement object at 0x000001E1AE72B820>, <sqlalchemy.ext.automap.measurement object at 0x000001E1AE72B880>, <sqlalchemy.ext.automap.measurement object at 0x000001E1AE72B8E0>, <sqlalchemy.ext.automap.measurement object at 0x000001E1AE72B940>, <sqlalchemy.ext.automap.measurement object at 0x000001E1AE72B9A0>, <sqlalchemy.ext.automap.measurement object at 0x000001E1AE72BA00>, <sqlalchemy.ext.automap.measurement object at 0x000001E1AE72BA60>, <sqlalchemy.ext.automap.measurement object at 0x000001E1AE72BAC0>, <sqlalchemy.ext.automap.measurement object at 0x000001E1AE72BB20>, <sqlalchemy.ext.automap.measurement object at 0x000001E1AE72BB80>, <sqlalchemy.ext.automap.measurement object at 0x000001E1AE72BBE0>, <sqlalchemy.ext.automap.measurement object at 0x000001E1AE72BC40>, <sqlalchemy.ext.automap.measurement object at 0x000001E1AE72BCA0>, <sqlalchemy.ext.automap.measurement object at 0x000001E1AE72BD00>, <sqlalchemy.ext.automap.measurement object at 0x000001E1AE72BD60>, <sqlalchemy.ext.automap.measurement object at 0x000001E1AE72BDC0>, <sqlalchemy.ext.automap.measurement object at 0x000001E1AE72BE20>, <sqlalchemy.ext.automap.measurement object at 0x000001E1AE72BE80>, <sqlalchemy.ext.automap.measurement object at 0x000001E1AE72BEE0>, <sqlalchemy.ext.automap.measurement object at 0x000001E1AE72BF40>, <sqlalchemy.ext.automap.measurement object at 0x000001E1AE72BFA0>, <sqlalchemy.ext.automap.measurement object at 0x000001E1AE72BFD0>, <sqlalchemy.ext.automap.measurement object at 0x000001E1AE7380A0>, <sqlalchemy.ext.automap.measurement object at 0x000001E1AE738100>, <sqlalchemy.ext.automap.measurement object at 0x000001E1AE738160>, <sqlalchemy.ext.automap.measurement object at 0x000001E1AE7381C0>, <sqlalchemy.ext.automap.measurement object at 0x000001E1AE738220>, <sqlalchemy.ext.automap.measurement object at 0x000001E1AE738280>, <sqlalchemy.ext.automap.measurement object at 0x000001E1AE7382E0>, <sqlalchemy.ext.automap.measurement object at 0x000001E1AE738340>, <sqlalchemy.ext.automap.measurement object at 0x000001E1AE7383A0>, <sqlalchemy.ext.automap.measurement object at 0x000001E1AE738400>, <sqlalchemy.ext.automap.measurement object at 0x000001E1AE738460>, <sqlalchemy.ext.automap.measurement object at 0x000001E1AE7384C0>, <sqlalchemy.ext.automap.measurement object at 0x000001E1AE738520>, <sqlalchemy.ext.automap.measurement object at 0x000001E1AE738580>, <sqlalchemy.ext.automap.measurement object at 0x000001E1AE7385E0>, <sqlalchemy.ext.automap.measurement object at 0x000001E1AE738640>, <sqlalchemy.ext.automap.measurement object at 0x000001E1AE7386A0>, <sqlalchemy.ext.automap.measurement object at 0x000001E1AE738700>, <sqlalchemy.ext.automap.measurement object at 0x000001E1AE738760>, <sqlalchemy.ext.automap.measurement object at 0x000001E1AE7387C0>, <sqlalchemy.ext.automap.measurement object at 0x000001E1AE738820>, <sqlalchemy.ext.automap.measurement object at 0x000001E1AE738880>, <sqlalchemy.ext.automap.measurement object at 0x000001E1AE7388E0>, <sqlalchemy.ext.automap.measurement object at 0x000001E1AE738940>, <sqlalchemy.ext.automap.measurement object at 0x000001E1AE7389A0>, <sqlalchemy.ext.automap.measurement object at 0x000001E1AE738A00>, <sqlalchemy.ext.automap.measurement object at 0x000001E1AE738A60>, <sqlalchemy.ext.automap.measurement object at 0x000001E1AE738AC0>, <sqlalchemy.ext.automap.measurement object at 0x000001E1AE738B20>, <sqlalchemy.ext.automap.measurement object at 0x000001E1AE738B80>, <sqlalchemy.ext.automap.measurement object at 0x000001E1AE738BE0>, <sqlalchemy.ext.automap.measurement object at 0x000001E1AE738C40>, <sqlalchemy.ext.automap.measurement object at 0x000001E1AE738CA0>, <sqlalchemy.ext.automap.measurement object at 0x000001E1AE738D00>, <sqlalchemy.ext.automap.measurement object at 0x000001E1AE738D60>, <sqlalchemy.ext.automap.measurement object at 0x000001E1AE738DC0>, <sqlalchemy.ext.automap.measurement object at 0x000001E1AE738E20>, <sqlalchemy.ext.automap.measurement object at 0x000001E1AE738E80>, <sqlalchemy.ext.automap.measurement object at 0x000001E1AE738EE0>, <sqlalchemy.ext.automap.measurement object at 0x000001E1AE738F40>, <sqlalchemy.ext.automap.measurement object at 0x000001E1AE738FA0>, <sqlalchemy.ext.automap.measurement object at 0x000001E1AE738FD0>, <sqlalchemy.ext.automap.measurement object at 0x000001E1AE7440A0>, <sqlalchemy.ext.automap.measurement object at 0x000001E1AE744100>, <sqlalchemy.ext.automap.measurement object at 0x000001E1AE744160>, <sqlalchemy.ext.automap.measurement object at 0x000001E1AE7441C0>, <sqlalchemy.ext.automap.measurement object at 0x000001E1AE744220>, <sqlalchemy.ext.automap.measurement object at 0x000001E1AE744280>, <sqlalchemy.ext.automap.measurement object at 0x000001E1AE7442E0>, <sqlalchemy.ext.automap.measurement object at 0x000001E1AE744340>, <sqlalchemy.ext.automap.measurement object at 0x000001E1AE7443A0>, <sqlalchemy.ext.automap.measurement object at 0x000001E1AE744400>, <sqlalchemy.ext.automap.measurement object at 0x000001E1AE744460>, <sqlalchemy.ext.automap.measurement object at 0x000001E1AE7444C0>, <sqlalchemy.ext.automap.measurement object at 0x000001E1AE744520>, <sqlalchemy.ext.automap.measurement object at 0x000001E1AE744580>, <sqlalchemy.ext.automap.measurement object at 0x000001E1AE7445E0>, <sqlalchemy.ext.automap.measurement object at 0x000001E1AE744640>, <sqlalchemy.ext.automap.measurement object at 0x000001E1AE7446A0>, <sqlalchemy.ext.automap.measurement object at 0x000001E1AE744700>, <sqlalchemy.ext.automap.measurement object at 0x000001E1AE744760>, <sqlalchemy.ext.automap.measurement object at 0x000001E1AE7447C0>, <sqlalchemy.ext.automap.measurement object at 0x000001E1AE744820>, <sqlalchemy.ext.automap.measurement object at 0x000001E1AE744880>, <sqlalchemy.ext.automap.measurement object at 0x000001E1AE7448E0>, <sqlalchemy.ext.automap.measurement object at 0x000001E1AE744940>, <sqlalchemy.ext.automap.measurement object at 0x000001E1AE7449A0>, <sqlalchemy.ext.automap.measurement object at 0x000001E1AE744A00>, <sqlalchemy.ext.automap.measurement object at 0x000001E1AE744A60>, <sqlalchemy.ext.automap.measurement object at 0x000001E1AE744AC0>, <sqlalchemy.ext.automap.measurement object at 0x000001E1AE744B20>, <sqlalchemy.ext.automap.measurement object at 0x000001E1AE744B80>, <sqlalchemy.ext.automap.measurement object at 0x000001E1AE744BE0>, <sqlalchemy.ext.automap.measurement object at 0x000001E1AE744C40>, <sqlalchemy.ext.automap.measurement object at 0x000001E1AE744CA0>, <sqlalchemy.ext.automap.measurement object at 0x000001E1AE744D00>, <sqlalchemy.ext.automap.measurement object at 0x000001E1AE744D60>, <sqlalchemy.ext.automap.measurement object at 0x000001E1AE744DC0>, <sqlalchemy.ext.automap.measurement object at 0x000001E1AE744E20>, <sqlalchemy.ext.automap.measurement object at 0x000001E1AE744E80>, <sqlalchemy.ext.automap.measurement object at 0x000001E1AE744EE0>, <sqlalchemy.ext.automap.measurement object at 0x000001E1AE744F40>, <sqlalchemy.ext.automap.measurement object at 0x000001E1AE744FA0>, <sqlalchemy.ext.automap.measurement object at 0x000001E1AE744FD0>, <sqlalchemy.ext.automap.measurement object at 0x000001E1AE74F0A0>, <sqlalchemy.ext.automap.measurement object at 0x000001E1AE74F100>, <sqlalchemy.ext.automap.measurement object at 0x000001E1AE74F160>, <sqlalchemy.ext.automap.measurement object at 0x000001E1AE74F1C0>, <sqlalchemy.ext.automap.measurement object at 0x000001E1AE74F220>, <sqlalchemy.ext.automap.measurement object at 0x000001E1AE74F280>, <sqlalchemy.ext.automap.measurement object at 0x000001E1AE74F2E0>, <sqlalchemy.ext.automap.measurement object at 0x000001E1AE74F340>, <sqlalchemy.ext.automap.measurement object at 0x000001E1AE74F3A0>, <sqlalchemy.ext.automap.measurement object at 0x000001E1AE74F400>, <sqlalchemy.ext.automap.measurement object at 0x000001E1AE74F460>, <sqlalchemy.ext.automap.measurement object at 0x000001E1AE74F4C0>, <sqlalchemy.ext.automap.measurement object at 0x000001E1AE74F520>, <sqlalchemy.ext.automap.measurement object at 0x000001E1AE74F580>, <sqlalchemy.ext.automap.measurement object at 0x000001E1AE74F5E0>, <sqlalchemy.ext.automap.measurement object at 0x000001E1AE74F640>, <sqlalchemy.ext.automap.measurement object at 0x000001E1AE74F6A0>, <sqlalchemy.ext.automap.measurement object at 0x000001E1AE74F700>, <sqlalchemy.ext.automap.measurement object at 0x000001E1AE74F760>, <sqlalchemy.ext.automap.measurement object at 0x000001E1AE74F7C0>, <sqlalchemy.ext.automap.measurement object at 0x000001E1AE74F820>, <sqlalchemy.ext.automap.measurement object at 0x000001E1AE74F880>, <sqlalchemy.ext.automap.measurement object at 0x000001E1AE74F8E0>, <sqlalchemy.ext.automap.measurement object at 0x000001E1AE74F940>, <sqlalchemy.ext.automap.measurement object at 0x000001E1AE74F9A0>, <sqlalchemy.ext.automap.measurement object at 0x000001E1AE74FA00>, <sqlalchemy.ext.automap.measurement object at 0x000001E1AE74FA60>, <sqlalchemy.ext.automap.measurement object at 0x000001E1AE74FAC0>, <sqlalchemy.ext.automap.measurement object at 0x000001E1AE74FB20>, <sqlalchemy.ext.automap.measurement object at 0x000001E1AE74FB80>, <sqlalchemy.ext.automap.measurement object at 0x000001E1AE74FBE0>, <sqlalchemy.ext.automap.measurement object at 0x000001E1AE74FC40>, <sqlalchemy.ext.automap.measurement object at 0x000001E1AE74FCA0>, <sqlalchemy.ext.automap.measurement object at 0x000001E1AE74FD00>, <sqlalchemy.ext.automap.measurement object at 0x000001E1AE74FD60>, <sqlalchemy.ext.automap.measurement object at 0x000001E1AE74FDC0>, <sqlalchemy.ext.automap.measurement object at 0x000001E1AE74FE20>, <sqlalchemy.ext.automap.measurement object at 0x000001E1AE74FE80>, <sqlalchemy.ext.automap.measurement object at 0x000001E1AE74FEE0>, <sqlalchemy.ext.automap.measurement object at 0x000001E1AE74FF40>, <sqlalchemy.ext.automap.measurement object at 0x000001E1AE74FFA0>, <sqlalchemy.ext.automap.measurement object at 0x000001E1AE74FFD0>, <sqlalchemy.ext.automap.measurement object at 0x000001E1AE75D0A0>, <sqlalchemy.ext.automap.measurement object at 0x000001E1AE75D100>, <sqlalchemy.ext.automap.measurement object at 0x000001E1AE75D160>, <sqlalchemy.ext.automap.measurement object at 0x000001E1AE75D1C0>, <sqlalchemy.ext.automap.measurement object at 0x000001E1AE75D220>, <sqlalchemy.ext.automap.measurement object at 0x000001E1AE75D280>, <sqlalchemy.ext.automap.measurement object at 0x000001E1AE75D2E0>, <sqlalchemy.ext.automap.measurement object at 0x000001E1AE75D340>, <sqlalchemy.ext.automap.measurement object at 0x000001E1AE75D3A0>, <sqlalchemy.ext.automap.measurement object at 0x000001E1AE75D400>, <sqlalchemy.ext.automap.measurement object at 0x000001E1AE75D460>, <sqlalchemy.ext.automap.measurement object at 0x000001E1AE75D4C0>, <sqlalchemy.ext.automap.measurement object at 0x000001E1AE75D520>, <sqlalchemy.ext.automap.measurement object at 0x000001E1AE75D580>, <sqlalchemy.ext.automap.measurement object at 0x000001E1AE75D5E0>, <sqlalchemy.ext.automap.measurement object at 0x000001E1AE75D640>, <sqlalchemy.ext.automap.measurement object at 0x000001E1AE75D6A0>, <sqlalchemy.ext.automap.measurement object at 0x000001E1AE75D700>, <sqlalchemy.ext.automap.measurement object at 0x000001E1AE75D760>, <sqlalchemy.ext.automap.measurement object at 0x000001E1AE75D7C0>, <sqlalchemy.ext.automap.measurement object at 0x000001E1AE75D820>, <sqlalchemy.ext.automap.measurement object at 0x000001E1AE75D880>, <sqlalchemy.ext.automap.measurement object at 0x000001E1AE75D8E0>, <sqlalchemy.ext.automap.measurement object at 0x000001E1AE75D940>, <sqlalchemy.ext.automap.measurement object at 0x000001E1AE75D9A0>, <sqlalchemy.ext.automap.measurement object at 0x000001E1AE75DA00>, <sqlalchemy.ext.automap.measurement object at 0x000001E1AE75DA60>, <sqlalchemy.ext.automap.measurement object at 0x000001E1AE75DAC0>, <sqlalchemy.ext.automap.measurement object at 0x000001E1AE75DB20>, <sqlalchemy.ext.automap.measurement object at 0x000001E1AE75DB80>, <sqlalchemy.ext.automap.measurement object at 0x000001E1AE75DBE0>, <sqlalchemy.ext.automap.measurement object at 0x000001E1AE75DC40>, <sqlalchemy.ext.automap.measurement object at 0x000001E1AE75DCA0>, <sqlalchemy.ext.automap.measurement object at 0x000001E1AE75DD00>, <sqlalchemy.ext.automap.measurement object at 0x000001E1AE75DD60>, <sqlalchemy.ext.automap.measurement object at 0x000001E1AE75DDC0>, <sqlalchemy.ext.automap.measurement object at 0x000001E1AE75DE20>, <sqlalchemy.ext.automap.measurement object at 0x000001E1AE75DE80>, <sqlalchemy.ext.automap.measurement object at 0x000001E1AE75DEE0>, <sqlalchemy.ext.automap.measurement object at 0x000001E1AE75DF40>, <sqlalchemy.ext.automap.measurement object at 0x000001E1AE75DFA0>, <sqlalchemy.ext.automap.measurement object at 0x000001E1AE75DFD0>, <sqlalchemy.ext.automap.measurement object at 0x000001E1AE76A0A0>, <sqlalchemy.ext.automap.measurement object at 0x000001E1AE76A100>, <sqlalchemy.ext.automap.measurement object at 0x000001E1AE76A160>, <sqlalchemy.ext.automap.measurement object at 0x000001E1AE76A1C0>, <sqlalchemy.ext.automap.measurement object at 0x000001E1AE76A220>, <sqlalchemy.ext.automap.measurement object at 0x000001E1AE76A280>, <sqlalchemy.ext.automap.measurement object at 0x000001E1AE76A2E0>, <sqlalchemy.ext.automap.measurement object at 0x000001E1AE76A340>, <sqlalchemy.ext.automap.measurement object at 0x000001E1AE76A3A0>, <sqlalchemy.ext.automap.measurement object at 0x000001E1AE76A400>, <sqlalchemy.ext.automap.measurement object at 0x000001E1AE76A460>, <sqlalchemy.ext.automap.measurement object at 0x000001E1AE76A4C0>, <sqlalchemy.ext.automap.measurement object at 0x000001E1AE76A520>, <sqlalchemy.ext.automap.measurement object at 0x000001E1AE76A580>, <sqlalchemy.ext.automap.measurement object at 0x000001E1AE76A5E0>, <sqlalchemy.ext.automap.measurement object at 0x000001E1AE76A640>, <sqlalchemy.ext.automap.measurement object at 0x000001E1AE76A6A0>, <sqlalchemy.ext.automap.measurement object at 0x000001E1AE76A700>, <sqlalchemy.ext.automap.measurement object at 0x000001E1AE76A760>, <sqlalchemy.ext.automap.measurement object at 0x000001E1AE76A7C0>, <sqlalchemy.ext.automap.measurement object at 0x000001E1AE76A820>, <sqlalchemy.ext.automap.measurement object at 0x000001E1AE76A880>, <sqlalchemy.ext.automap.measurement object at 0x000001E1AE76A8E0>, <sqlalchemy.ext.automap.measurement object at 0x000001E1AE76A940>, <sqlalchemy.ext.automap.measurement object at 0x000001E1AE76A9A0>, <sqlalchemy.ext.automap.measurement object at 0x000001E1AE76AA00>, <sqlalchemy.ext.automap.measurement object at 0x000001E1AE76AA60>, <sqlalchemy.ext.automap.measurement object at 0x000001E1AE76AAC0>, <sqlalchemy.ext.automap.measurement object at 0x000001E1AE76AB20>, <sqlalchemy.ext.automap.measurement object at 0x000001E1AE76AB80>, <sqlalchemy.ext.automap.measurement object at 0x000001E1AE76ABE0>, <sqlalchemy.ext.automap.measurement object at 0x000001E1AE76AC40>, <sqlalchemy.ext.automap.measurement object at 0x000001E1AE76ACA0>, <sqlalchemy.ext.automap.measurement object at 0x000001E1AE76AD00>, <sqlalchemy.ext.automap.measurement object at 0x000001E1AE76AD60>, <sqlalchemy.ext.automap.measurement object at 0x000001E1AE76ADC0>, <sqlalchemy.ext.automap.measurement object at 0x000001E1AE76AE20>, <sqlalchemy.ext.automap.measurement object at 0x000001E1AE76AE80>, <sqlalchemy.ext.automap.measurement object at 0x000001E1AE76AEE0>, <sqlalchemy.ext.automap.measurement object at 0x000001E1AE76AF40>, <sqlalchemy.ext.automap.measurement object at 0x000001E1AE76AFA0>, <sqlalchemy.ext.automap.measurement object at 0x000001E1AE76AFD0>, <sqlalchemy.ext.automap.measurement object at 0x000001E1AE7760A0>, <sqlalchemy.ext.automap.measurement object at 0x000001E1AE776100>, <sqlalchemy.ext.automap.measurement object at 0x000001E1AE776160>, <sqlalchemy.ext.automap.measurement object at 0x000001E1AE7761C0>, <sqlalchemy.ext.automap.measurement object at 0x000001E1AE776220>, <sqlalchemy.ext.automap.measurement object at 0x000001E1AE776280>, <sqlalchemy.ext.automap.measurement object at 0x000001E1AE7762E0>, <sqlalchemy.ext.automap.measurement object at 0x000001E1AE776340>, <sqlalchemy.ext.automap.measurement object at 0x000001E1AE7763A0>, <sqlalchemy.ext.automap.measurement object at 0x000001E1AE776400>, <sqlalchemy.ext.automap.measurement object at 0x000001E1AE776460>]",
     "output_type": "error",
     "traceback": [
      "\u001b[1;31m---------------------------------------------------------------------------\u001b[0m",
      "\u001b[1;31mAttributeError\u001b[0m                            Traceback (most recent call last)",
      "\u001b[1;32m~\\anaconda3\\lib\\site-packages\\sqlalchemy\\engine\\base.py\u001b[0m in \u001b[0;36mexecute\u001b[1;34m(self, object_, *multiparams, **params)\u001b[0m\n\u001b[0;32m   1004\u001b[0m         \u001b[1;32mtry\u001b[0m\u001b[1;33m:\u001b[0m\u001b[1;33m\u001b[0m\u001b[1;33m\u001b[0m\u001b[0m\n\u001b[1;32m-> 1005\u001b[1;33m             \u001b[0mmeth\u001b[0m \u001b[1;33m=\u001b[0m \u001b[0mobject_\u001b[0m\u001b[1;33m.\u001b[0m\u001b[0m_execute_on_connection\u001b[0m\u001b[1;33m\u001b[0m\u001b[1;33m\u001b[0m\u001b[0m\n\u001b[0m\u001b[0;32m   1006\u001b[0m         \u001b[1;32mexcept\u001b[0m \u001b[0mAttributeError\u001b[0m \u001b[1;32mas\u001b[0m \u001b[0merr\u001b[0m\u001b[1;33m:\u001b[0m\u001b[1;33m\u001b[0m\u001b[1;33m\u001b[0m\u001b[0m\n",
      "\u001b[1;31mAttributeError\u001b[0m: 'list' object has no attribute '_execute_on_connection'",
      "\nThe above exception was the direct cause of the following exception:\n",
      "\u001b[1;31mObjectNotExecutableError\u001b[0m                  Traceback (most recent call last)",
      "\u001b[1;32m<ipython-input-41-a3a069227393>\u001b[0m in \u001b[0;36m<module>\u001b[1;34m\u001b[0m\n\u001b[0;32m      4\u001b[0m     \u001b[0mgroup_by\u001b[0m\u001b[1;33m(\u001b[0m\u001b[0mMeasurement\u001b[0m\u001b[1;33m.\u001b[0m\u001b[0mdate\u001b[0m\u001b[1;33m)\u001b[0m\u001b[1;33m.\u001b[0m\u001b[0mall\u001b[0m\u001b[1;33m(\u001b[0m\u001b[1;33m)\u001b[0m\u001b[1;33m\u001b[0m\u001b[1;33m\u001b[0m\u001b[0m\n\u001b[0;32m      5\u001b[0m \u001b[1;33m\u001b[0m\u001b[0m\n\u001b[1;32m----> 6\u001b[1;33m \u001b[0mdf_12mo_temp\u001b[0m \u001b[1;33m=\u001b[0m \u001b[0mpd\u001b[0m\u001b[1;33m.\u001b[0m\u001b[0mread_sql_query\u001b[0m\u001b[1;33m(\u001b[0m\u001b[0mlast_12mo_temp\u001b[0m\u001b[1;33m,\u001b[0m \u001b[0msession\u001b[0m\u001b[1;33m.\u001b[0m\u001b[0mbind\u001b[0m\u001b[1;33m)\u001b[0m\u001b[1;33m\u001b[0m\u001b[1;33m\u001b[0m\u001b[0m\n\u001b[0m\u001b[0;32m      7\u001b[0m \u001b[0mdf12mo_temp\u001b[0m\u001b[1;33m.\u001b[0m\u001b[0mhead\u001b[0m\u001b[1;33m(\u001b[0m\u001b[1;33m)\u001b[0m\u001b[1;33m\u001b[0m\u001b[1;33m\u001b[0m\u001b[0m\n",
      "\u001b[1;32m~\\anaconda3\\lib\\site-packages\\pandas\\io\\sql.py\u001b[0m in \u001b[0;36mread_sql_query\u001b[1;34m(sql, con, index_col, coerce_float, params, parse_dates, chunksize)\u001b[0m\n\u001b[0;32m    375\u001b[0m     \"\"\"\n\u001b[0;32m    376\u001b[0m     \u001b[0mpandas_sql\u001b[0m \u001b[1;33m=\u001b[0m \u001b[0mpandasSQL_builder\u001b[0m\u001b[1;33m(\u001b[0m\u001b[0mcon\u001b[0m\u001b[1;33m)\u001b[0m\u001b[1;33m\u001b[0m\u001b[1;33m\u001b[0m\u001b[0m\n\u001b[1;32m--> 377\u001b[1;33m     return pandas_sql.read_query(\n\u001b[0m\u001b[0;32m    378\u001b[0m         \u001b[0msql\u001b[0m\u001b[1;33m,\u001b[0m\u001b[1;33m\u001b[0m\u001b[1;33m\u001b[0m\u001b[0m\n\u001b[0;32m    379\u001b[0m         \u001b[0mindex_col\u001b[0m\u001b[1;33m=\u001b[0m\u001b[0mindex_col\u001b[0m\u001b[1;33m,\u001b[0m\u001b[1;33m\u001b[0m\u001b[1;33m\u001b[0m\u001b[0m\n",
      "\u001b[1;32m~\\anaconda3\\lib\\site-packages\\pandas\\io\\sql.py\u001b[0m in \u001b[0;36mread_query\u001b[1;34m(self, sql, index_col, coerce_float, parse_dates, params, chunksize)\u001b[0m\n\u001b[0;32m   1293\u001b[0m         \u001b[0margs\u001b[0m \u001b[1;33m=\u001b[0m \u001b[0m_convert_params\u001b[0m\u001b[1;33m(\u001b[0m\u001b[0msql\u001b[0m\u001b[1;33m,\u001b[0m \u001b[0mparams\u001b[0m\u001b[1;33m)\u001b[0m\u001b[1;33m\u001b[0m\u001b[1;33m\u001b[0m\u001b[0m\n\u001b[0;32m   1294\u001b[0m \u001b[1;33m\u001b[0m\u001b[0m\n\u001b[1;32m-> 1295\u001b[1;33m         \u001b[0mresult\u001b[0m \u001b[1;33m=\u001b[0m \u001b[0mself\u001b[0m\u001b[1;33m.\u001b[0m\u001b[0mexecute\u001b[0m\u001b[1;33m(\u001b[0m\u001b[1;33m*\u001b[0m\u001b[0margs\u001b[0m\u001b[1;33m)\u001b[0m\u001b[1;33m\u001b[0m\u001b[1;33m\u001b[0m\u001b[0m\n\u001b[0m\u001b[0;32m   1296\u001b[0m         \u001b[0mcolumns\u001b[0m \u001b[1;33m=\u001b[0m \u001b[0mresult\u001b[0m\u001b[1;33m.\u001b[0m\u001b[0mkeys\u001b[0m\u001b[1;33m(\u001b[0m\u001b[1;33m)\u001b[0m\u001b[1;33m\u001b[0m\u001b[1;33m\u001b[0m\u001b[0m\n\u001b[0;32m   1297\u001b[0m \u001b[1;33m\u001b[0m\u001b[0m\n",
      "\u001b[1;32m~\\anaconda3\\lib\\site-packages\\pandas\\io\\sql.py\u001b[0m in \u001b[0;36mexecute\u001b[1;34m(self, *args, **kwargs)\u001b[0m\n\u001b[0;32m   1159\u001b[0m     \u001b[1;32mdef\u001b[0m \u001b[0mexecute\u001b[0m\u001b[1;33m(\u001b[0m\u001b[0mself\u001b[0m\u001b[1;33m,\u001b[0m \u001b[1;33m*\u001b[0m\u001b[0margs\u001b[0m\u001b[1;33m,\u001b[0m \u001b[1;33m**\u001b[0m\u001b[0mkwargs\u001b[0m\u001b[1;33m)\u001b[0m\u001b[1;33m:\u001b[0m\u001b[1;33m\u001b[0m\u001b[1;33m\u001b[0m\u001b[0m\n\u001b[0;32m   1160\u001b[0m         \u001b[1;34m\"\"\"Simple passthrough to SQLAlchemy connectable\"\"\"\u001b[0m\u001b[1;33m\u001b[0m\u001b[1;33m\u001b[0m\u001b[0m\n\u001b[1;32m-> 1161\u001b[1;33m         return self.connectable.execution_options(no_parameters=True).execute(\n\u001b[0m\u001b[0;32m   1162\u001b[0m             \u001b[1;33m*\u001b[0m\u001b[0margs\u001b[0m\u001b[1;33m,\u001b[0m \u001b[1;33m**\u001b[0m\u001b[0mkwargs\u001b[0m\u001b[1;33m\u001b[0m\u001b[1;33m\u001b[0m\u001b[0m\n\u001b[0;32m   1163\u001b[0m         )\n",
      "\u001b[1;32m~\\anaconda3\\lib\\site-packages\\sqlalchemy\\engine\\base.py\u001b[0m in \u001b[0;36mexecute\u001b[1;34m(self, statement, *multiparams, **params)\u001b[0m\n\u001b[0;32m   2233\u001b[0m \u001b[1;33m\u001b[0m\u001b[0m\n\u001b[0;32m   2234\u001b[0m         \u001b[0mconnection\u001b[0m \u001b[1;33m=\u001b[0m \u001b[0mself\u001b[0m\u001b[1;33m.\u001b[0m\u001b[0m_contextual_connect\u001b[0m\u001b[1;33m(\u001b[0m\u001b[0mclose_with_result\u001b[0m\u001b[1;33m=\u001b[0m\u001b[1;32mTrue\u001b[0m\u001b[1;33m)\u001b[0m\u001b[1;33m\u001b[0m\u001b[1;33m\u001b[0m\u001b[0m\n\u001b[1;32m-> 2235\u001b[1;33m         \u001b[1;32mreturn\u001b[0m \u001b[0mconnection\u001b[0m\u001b[1;33m.\u001b[0m\u001b[0mexecute\u001b[0m\u001b[1;33m(\u001b[0m\u001b[0mstatement\u001b[0m\u001b[1;33m,\u001b[0m \u001b[1;33m*\u001b[0m\u001b[0mmultiparams\u001b[0m\u001b[1;33m,\u001b[0m \u001b[1;33m**\u001b[0m\u001b[0mparams\u001b[0m\u001b[1;33m)\u001b[0m\u001b[1;33m\u001b[0m\u001b[1;33m\u001b[0m\u001b[0m\n\u001b[0m\u001b[0;32m   2236\u001b[0m \u001b[1;33m\u001b[0m\u001b[0m\n\u001b[0;32m   2237\u001b[0m     \u001b[1;32mdef\u001b[0m \u001b[0mscalar\u001b[0m\u001b[1;33m(\u001b[0m\u001b[0mself\u001b[0m\u001b[1;33m,\u001b[0m \u001b[0mstatement\u001b[0m\u001b[1;33m,\u001b[0m \u001b[1;33m*\u001b[0m\u001b[0mmultiparams\u001b[0m\u001b[1;33m,\u001b[0m \u001b[1;33m**\u001b[0m\u001b[0mparams\u001b[0m\u001b[1;33m)\u001b[0m\u001b[1;33m:\u001b[0m\u001b[1;33m\u001b[0m\u001b[1;33m\u001b[0m\u001b[0m\n",
      "\u001b[1;32m~\\anaconda3\\lib\\site-packages\\sqlalchemy\\engine\\base.py\u001b[0m in \u001b[0;36mexecute\u001b[1;34m(self, object_, *multiparams, **params)\u001b[0m\n\u001b[0;32m   1005\u001b[0m             \u001b[0mmeth\u001b[0m \u001b[1;33m=\u001b[0m \u001b[0mobject_\u001b[0m\u001b[1;33m.\u001b[0m\u001b[0m_execute_on_connection\u001b[0m\u001b[1;33m\u001b[0m\u001b[1;33m\u001b[0m\u001b[0m\n\u001b[0;32m   1006\u001b[0m         \u001b[1;32mexcept\u001b[0m \u001b[0mAttributeError\u001b[0m \u001b[1;32mas\u001b[0m \u001b[0merr\u001b[0m\u001b[1;33m:\u001b[0m\u001b[1;33m\u001b[0m\u001b[1;33m\u001b[0m\u001b[0m\n\u001b[1;32m-> 1007\u001b[1;33m             util.raise_(\n\u001b[0m\u001b[0;32m   1008\u001b[0m                 \u001b[0mexc\u001b[0m\u001b[1;33m.\u001b[0m\u001b[0mObjectNotExecutableError\u001b[0m\u001b[1;33m(\u001b[0m\u001b[0mobject_\u001b[0m\u001b[1;33m)\u001b[0m\u001b[1;33m,\u001b[0m \u001b[0mreplace_context\u001b[0m\u001b[1;33m=\u001b[0m\u001b[0merr\u001b[0m\u001b[1;33m\u001b[0m\u001b[1;33m\u001b[0m\u001b[0m\n\u001b[0;32m   1009\u001b[0m             )\n",
      "\u001b[1;32m~\\anaconda3\\lib\\site-packages\\sqlalchemy\\util\\compat.py\u001b[0m in \u001b[0;36mraise_\u001b[1;34m(***failed resolving arguments***)\u001b[0m\n\u001b[0;32m    180\u001b[0m \u001b[1;33m\u001b[0m\u001b[0m\n\u001b[0;32m    181\u001b[0m         \u001b[1;32mtry\u001b[0m\u001b[1;33m:\u001b[0m\u001b[1;33m\u001b[0m\u001b[1;33m\u001b[0m\u001b[0m\n\u001b[1;32m--> 182\u001b[1;33m             \u001b[1;32mraise\u001b[0m \u001b[0mexception\u001b[0m\u001b[1;33m\u001b[0m\u001b[1;33m\u001b[0m\u001b[0m\n\u001b[0m\u001b[0;32m    183\u001b[0m         \u001b[1;32mfinally\u001b[0m\u001b[1;33m:\u001b[0m\u001b[1;33m\u001b[0m\u001b[1;33m\u001b[0m\u001b[0m\n\u001b[0;32m    184\u001b[0m             \u001b[1;31m# credit to\u001b[0m\u001b[1;33m\u001b[0m\u001b[1;33m\u001b[0m\u001b[1;33m\u001b[0m\u001b[0m\n",
      "\u001b[1;31mObjectNotExecutableError\u001b[0m: Not an executable object: [<sqlalchemy.ext.automap.measurement object at 0x000001E1AE2A4B80>, <sqlalchemy.ext.automap.measurement object at 0x000001E1AE2A4EB0>, <sqlalchemy.ext.automap.measurement object at 0x000001E1AE711E50>, <sqlalchemy.ext.automap.measurement object at 0x000001E1AE711EB0>, <sqlalchemy.ext.automap.measurement object at 0x000001E1AE711F10>, <sqlalchemy.ext.automap.measurement object at 0x000001E1AE711F70>, <sqlalchemy.ext.automap.measurement object at 0x000001E1AE711FD0>, <sqlalchemy.ext.automap.measurement object at 0x000001E1AE713070>, <sqlalchemy.ext.automap.measurement object at 0x000001E1AE7130D0>, <sqlalchemy.ext.automap.measurement object at 0x000001E1AE713130>, <sqlalchemy.ext.automap.measurement object at 0x000001E1AE713190>, <sqlalchemy.ext.automap.measurement object at 0x000001E1AE7131F0>, <sqlalchemy.ext.automap.measurement object at 0x000001E1AE713250>, <sqlalchemy.ext.automap.measurement object at 0x000001E1AE7132B0>, <sqlalchemy.ext.automap.measurement object at 0x000001E1AE713310>, <sqlalchemy.ext.automap.measurement object at 0x000001E1AE713370>, <sqlalchemy.ext.automap.measurement object at 0x000001E1ACC7D700>, <sqlalchemy.ext.automap.measurement object at 0x000001E1AE0A5D00>, <sqlalchemy.ext.automap.measurement object at 0x000001E1AE713400>, <sqlalchemy.ext.automap.measurement object at 0x000001E1AE713460>, <sqlalchemy.ext.automap.measurement object at 0x000001E1AE7134C0>, <sqlalchemy.ext.automap.measurement object at 0x000001E1AE713520>, <sqlalchemy.ext.automap.measurement object at 0x000001E1AE713580>, <sqlalchemy.ext.automap.measurement object at 0x000001E1AE7135E0>, <sqlalchemy.ext.automap.measurement object at 0x000001E1AE713640>, <sqlalchemy.ext.automap.measurement object at 0x000001E1AE7136A0>, <sqlalchemy.ext.automap.measurement object at 0x000001E1AE713700>, <sqlalchemy.ext.automap.measurement object at 0x000001E1AE713760>, <sqlalchemy.ext.automap.measurement object at 0x000001E1AE7137C0>, <sqlalchemy.ext.automap.measurement object at 0x000001E1AE713820>, <sqlalchemy.ext.automap.measurement object at 0x000001E1AE713880>, <sqlalchemy.ext.automap.measurement object at 0x000001E1AE7138E0>, <sqlalchemy.ext.automap.measurement object at 0x000001E1AE713940>, <sqlalchemy.ext.automap.measurement object at 0x000001E1AE7139A0>, <sqlalchemy.ext.automap.measurement object at 0x000001E1AE713A00>, <sqlalchemy.ext.automap.measurement object at 0x000001E1AE713A60>, <sqlalchemy.ext.automap.measurement object at 0x000001E1AE713AC0>, <sqlalchemy.ext.automap.measurement object at 0x000001E1AE713B20>, <sqlalchemy.ext.automap.measurement object at 0x000001E1AE713B80>, <sqlalchemy.ext.automap.measurement object at 0x000001E1AE713BE0>, <sqlalchemy.ext.automap.measurement object at 0x000001E1AE713C40>, <sqlalchemy.ext.automap.measurement object at 0x000001E1AE713CA0>, <sqlalchemy.ext.automap.measurement object at 0x000001E1AE713D00>, <sqlalchemy.ext.automap.measurement object at 0x000001E1AE713D60>, <sqlalchemy.ext.automap.measurement object at 0x000001E1AE713DC0>, <sqlalchemy.ext.automap.measurement object at 0x000001E1AE713E20>, <sqlalchemy.ext.automap.measurement object at 0x000001E1AE713E80>, <sqlalchemy.ext.automap.measurement object at 0x000001E1AE713EE0>, <sqlalchemy.ext.automap.measurement object at 0x000001E1AE713F40>, <sqlalchemy.ext.automap.measurement object at 0x000001E1AE713FA0>, <sqlalchemy.ext.automap.measurement object at 0x000001E1AE713FD0>, <sqlalchemy.ext.automap.measurement object at 0x000001E1AE71E0A0>, <sqlalchemy.ext.automap.measurement object at 0x000001E1AE71E100>, <sqlalchemy.ext.automap.measurement object at 0x000001E1AE71E160>, <sqlalchemy.ext.automap.measurement object at 0x000001E1AE71E1C0>, <sqlalchemy.ext.automap.measurement object at 0x000001E1AE71E220>, <sqlalchemy.ext.automap.measurement object at 0x000001E1AE71E280>, <sqlalchemy.ext.automap.measurement object at 0x000001E1AE71E2E0>, <sqlalchemy.ext.automap.measurement object at 0x000001E1AE71E340>, <sqlalchemy.ext.automap.measurement object at 0x000001E1AE71E3A0>, <sqlalchemy.ext.automap.measurement object at 0x000001E1AE71E400>, <sqlalchemy.ext.automap.measurement object at 0x000001E1AE71E460>, <sqlalchemy.ext.automap.measurement object at 0x000001E1AE71E4C0>, <sqlalchemy.ext.automap.measurement object at 0x000001E1AE71E520>, <sqlalchemy.ext.automap.measurement object at 0x000001E1AE71E580>, <sqlalchemy.ext.automap.measurement object at 0x000001E1AE71E5E0>, <sqlalchemy.ext.automap.measurement object at 0x000001E1AE71E640>, <sqlalchemy.ext.automap.measurement object at 0x000001E1AE71E6A0>, <sqlalchemy.ext.automap.measurement object at 0x000001E1AE71E700>, <sqlalchemy.ext.automap.measurement object at 0x000001E1AE71E760>, <sqlalchemy.ext.automap.measurement object at 0x000001E1AE71E7C0>, <sqlalchemy.ext.automap.measurement object at 0x000001E1AE71E820>, <sqlalchemy.ext.automap.measurement object at 0x000001E1AE71E880>, <sqlalchemy.ext.automap.measurement object at 0x000001E1AE71E8E0>, <sqlalchemy.ext.automap.measurement object at 0x000001E1AE71E940>, <sqlalchemy.ext.automap.measurement object at 0x000001E1AE71E9A0>, <sqlalchemy.ext.automap.measurement object at 0x000001E1AE71EA00>, <sqlalchemy.ext.automap.measurement object at 0x000001E1AE71EA60>, <sqlalchemy.ext.automap.measurement object at 0x000001E1AE71EAC0>, <sqlalchemy.ext.automap.measurement object at 0x000001E1AE71EB20>, <sqlalchemy.ext.automap.measurement object at 0x000001E1AE71EB80>, <sqlalchemy.ext.automap.measurement object at 0x000001E1AE71EBE0>, <sqlalchemy.ext.automap.measurement object at 0x000001E1AE71EC40>, <sqlalchemy.ext.automap.measurement object at 0x000001E1AE71ECA0>, <sqlalchemy.ext.automap.measurement object at 0x000001E1AE71ED00>, <sqlalchemy.ext.automap.measurement object at 0x000001E1AE71ED60>, <sqlalchemy.ext.automap.measurement object at 0x000001E1AE71EDC0>, <sqlalchemy.ext.automap.measurement object at 0x000001E1AE71EE20>, <sqlalchemy.ext.automap.measurement object at 0x000001E1AE71EE80>, <sqlalchemy.ext.automap.measurement object at 0x000001E1AE71EEE0>, <sqlalchemy.ext.automap.measurement object at 0x000001E1AE71EF40>, <sqlalchemy.ext.automap.measurement object at 0x000001E1AE71EFA0>, <sqlalchemy.ext.automap.measurement object at 0x000001E1AE71EFD0>, <sqlalchemy.ext.automap.measurement object at 0x000001E1AE72B0A0>, <sqlalchemy.ext.automap.measurement object at 0x000001E1AE72B100>, <sqlalchemy.ext.automap.measurement object at 0x000001E1AE72B160>, <sqlalchemy.ext.automap.measurement object at 0x000001E1AE72B1C0>, <sqlalchemy.ext.automap.measurement object at 0x000001E1AE72B220>, <sqlalchemy.ext.automap.measurement object at 0x000001E1AE72B280>, <sqlalchemy.ext.automap.measurement object at 0x000001E1AE72B2E0>, <sqlalchemy.ext.automap.measurement object at 0x000001E1AE72B340>, <sqlalchemy.ext.automap.measurement object at 0x000001E1AE72B3A0>, <sqlalchemy.ext.automap.measurement object at 0x000001E1AE72B400>, <sqlalchemy.ext.automap.measurement object at 0x000001E1AE72B460>, <sqlalchemy.ext.automap.measurement object at 0x000001E1AE72B4C0>, <sqlalchemy.ext.automap.measurement object at 0x000001E1AE72B520>, <sqlalchemy.ext.automap.measurement object at 0x000001E1AE72B580>, <sqlalchemy.ext.automap.measurement object at 0x000001E1AE72B5E0>, <sqlalchemy.ext.automap.measurement object at 0x000001E1AE72B640>, <sqlalchemy.ext.automap.measurement object at 0x000001E1AE72B6A0>, <sqlalchemy.ext.automap.measurement object at 0x000001E1AE72B700>, <sqlalchemy.ext.automap.measurement object at 0x000001E1AE72B760>, <sqlalchemy.ext.automap.measurement object at 0x000001E1AE72B7C0>, <sqlalchemy.ext.automap.measurement object at 0x000001E1AE72B820>, <sqlalchemy.ext.automap.measurement object at 0x000001E1AE72B880>, <sqlalchemy.ext.automap.measurement object at 0x000001E1AE72B8E0>, <sqlalchemy.ext.automap.measurement object at 0x000001E1AE72B940>, <sqlalchemy.ext.automap.measurement object at 0x000001E1AE72B9A0>, <sqlalchemy.ext.automap.measurement object at 0x000001E1AE72BA00>, <sqlalchemy.ext.automap.measurement object at 0x000001E1AE72BA60>, <sqlalchemy.ext.automap.measurement object at 0x000001E1AE72BAC0>, <sqlalchemy.ext.automap.measurement object at 0x000001E1AE72BB20>, <sqlalchemy.ext.automap.measurement object at 0x000001E1AE72BB80>, <sqlalchemy.ext.automap.measurement object at 0x000001E1AE72BBE0>, <sqlalchemy.ext.automap.measurement object at 0x000001E1AE72BC40>, <sqlalchemy.ext.automap.measurement object at 0x000001E1AE72BCA0>, <sqlalchemy.ext.automap.measurement object at 0x000001E1AE72BD00>, <sqlalchemy.ext.automap.measurement object at 0x000001E1AE72BD60>, <sqlalchemy.ext.automap.measurement object at 0x000001E1AE72BDC0>, <sqlalchemy.ext.automap.measurement object at 0x000001E1AE72BE20>, <sqlalchemy.ext.automap.measurement object at 0x000001E1AE72BE80>, <sqlalchemy.ext.automap.measurement object at 0x000001E1AE72BEE0>, <sqlalchemy.ext.automap.measurement object at 0x000001E1AE72BF40>, <sqlalchemy.ext.automap.measurement object at 0x000001E1AE72BFA0>, <sqlalchemy.ext.automap.measurement object at 0x000001E1AE72BFD0>, <sqlalchemy.ext.automap.measurement object at 0x000001E1AE7380A0>, <sqlalchemy.ext.automap.measurement object at 0x000001E1AE738100>, <sqlalchemy.ext.automap.measurement object at 0x000001E1AE738160>, <sqlalchemy.ext.automap.measurement object at 0x000001E1AE7381C0>, <sqlalchemy.ext.automap.measurement object at 0x000001E1AE738220>, <sqlalchemy.ext.automap.measurement object at 0x000001E1AE738280>, <sqlalchemy.ext.automap.measurement object at 0x000001E1AE7382E0>, <sqlalchemy.ext.automap.measurement object at 0x000001E1AE738340>, <sqlalchemy.ext.automap.measurement object at 0x000001E1AE7383A0>, <sqlalchemy.ext.automap.measurement object at 0x000001E1AE738400>, <sqlalchemy.ext.automap.measurement object at 0x000001E1AE738460>, <sqlalchemy.ext.automap.measurement object at 0x000001E1AE7384C0>, <sqlalchemy.ext.automap.measurement object at 0x000001E1AE738520>, <sqlalchemy.ext.automap.measurement object at 0x000001E1AE738580>, <sqlalchemy.ext.automap.measurement object at 0x000001E1AE7385E0>, <sqlalchemy.ext.automap.measurement object at 0x000001E1AE738640>, <sqlalchemy.ext.automap.measurement object at 0x000001E1AE7386A0>, <sqlalchemy.ext.automap.measurement object at 0x000001E1AE738700>, <sqlalchemy.ext.automap.measurement object at 0x000001E1AE738760>, <sqlalchemy.ext.automap.measurement object at 0x000001E1AE7387C0>, <sqlalchemy.ext.automap.measurement object at 0x000001E1AE738820>, <sqlalchemy.ext.automap.measurement object at 0x000001E1AE738880>, <sqlalchemy.ext.automap.measurement object at 0x000001E1AE7388E0>, <sqlalchemy.ext.automap.measurement object at 0x000001E1AE738940>, <sqlalchemy.ext.automap.measurement object at 0x000001E1AE7389A0>, <sqlalchemy.ext.automap.measurement object at 0x000001E1AE738A00>, <sqlalchemy.ext.automap.measurement object at 0x000001E1AE738A60>, <sqlalchemy.ext.automap.measurement object at 0x000001E1AE738AC0>, <sqlalchemy.ext.automap.measurement object at 0x000001E1AE738B20>, <sqlalchemy.ext.automap.measurement object at 0x000001E1AE738B80>, <sqlalchemy.ext.automap.measurement object at 0x000001E1AE738BE0>, <sqlalchemy.ext.automap.measurement object at 0x000001E1AE738C40>, <sqlalchemy.ext.automap.measurement object at 0x000001E1AE738CA0>, <sqlalchemy.ext.automap.measurement object at 0x000001E1AE738D00>, <sqlalchemy.ext.automap.measurement object at 0x000001E1AE738D60>, <sqlalchemy.ext.automap.measurement object at 0x000001E1AE738DC0>, <sqlalchemy.ext.automap.measurement object at 0x000001E1AE738E20>, <sqlalchemy.ext.automap.measurement object at 0x000001E1AE738E80>, <sqlalchemy.ext.automap.measurement object at 0x000001E1AE738EE0>, <sqlalchemy.ext.automap.measurement object at 0x000001E1AE738F40>, <sqlalchemy.ext.automap.measurement object at 0x000001E1AE738FA0>, <sqlalchemy.ext.automap.measurement object at 0x000001E1AE738FD0>, <sqlalchemy.ext.automap.measurement object at 0x000001E1AE7440A0>, <sqlalchemy.ext.automap.measurement object at 0x000001E1AE744100>, <sqlalchemy.ext.automap.measurement object at 0x000001E1AE744160>, <sqlalchemy.ext.automap.measurement object at 0x000001E1AE7441C0>, <sqlalchemy.ext.automap.measurement object at 0x000001E1AE744220>, <sqlalchemy.ext.automap.measurement object at 0x000001E1AE744280>, <sqlalchemy.ext.automap.measurement object at 0x000001E1AE7442E0>, <sqlalchemy.ext.automap.measurement object at 0x000001E1AE744340>, <sqlalchemy.ext.automap.measurement object at 0x000001E1AE7443A0>, <sqlalchemy.ext.automap.measurement object at 0x000001E1AE744400>, <sqlalchemy.ext.automap.measurement object at 0x000001E1AE744460>, <sqlalchemy.ext.automap.measurement object at 0x000001E1AE7444C0>, <sqlalchemy.ext.automap.measurement object at 0x000001E1AE744520>, <sqlalchemy.ext.automap.measurement object at 0x000001E1AE744580>, <sqlalchemy.ext.automap.measurement object at 0x000001E1AE7445E0>, <sqlalchemy.ext.automap.measurement object at 0x000001E1AE744640>, <sqlalchemy.ext.automap.measurement object at 0x000001E1AE7446A0>, <sqlalchemy.ext.automap.measurement object at 0x000001E1AE744700>, <sqlalchemy.ext.automap.measurement object at 0x000001E1AE744760>, <sqlalchemy.ext.automap.measurement object at 0x000001E1AE7447C0>, <sqlalchemy.ext.automap.measurement object at 0x000001E1AE744820>, <sqlalchemy.ext.automap.measurement object at 0x000001E1AE744880>, <sqlalchemy.ext.automap.measurement object at 0x000001E1AE7448E0>, <sqlalchemy.ext.automap.measurement object at 0x000001E1AE744940>, <sqlalchemy.ext.automap.measurement object at 0x000001E1AE7449A0>, <sqlalchemy.ext.automap.measurement object at 0x000001E1AE744A00>, <sqlalchemy.ext.automap.measurement object at 0x000001E1AE744A60>, <sqlalchemy.ext.automap.measurement object at 0x000001E1AE744AC0>, <sqlalchemy.ext.automap.measurement object at 0x000001E1AE744B20>, <sqlalchemy.ext.automap.measurement object at 0x000001E1AE744B80>, <sqlalchemy.ext.automap.measurement object at 0x000001E1AE744BE0>, <sqlalchemy.ext.automap.measurement object at 0x000001E1AE744C40>, <sqlalchemy.ext.automap.measurement object at 0x000001E1AE744CA0>, <sqlalchemy.ext.automap.measurement object at 0x000001E1AE744D00>, <sqlalchemy.ext.automap.measurement object at 0x000001E1AE744D60>, <sqlalchemy.ext.automap.measurement object at 0x000001E1AE744DC0>, <sqlalchemy.ext.automap.measurement object at 0x000001E1AE744E20>, <sqlalchemy.ext.automap.measurement object at 0x000001E1AE744E80>, <sqlalchemy.ext.automap.measurement object at 0x000001E1AE744EE0>, <sqlalchemy.ext.automap.measurement object at 0x000001E1AE744F40>, <sqlalchemy.ext.automap.measurement object at 0x000001E1AE744FA0>, <sqlalchemy.ext.automap.measurement object at 0x000001E1AE744FD0>, <sqlalchemy.ext.automap.measurement object at 0x000001E1AE74F0A0>, <sqlalchemy.ext.automap.measurement object at 0x000001E1AE74F100>, <sqlalchemy.ext.automap.measurement object at 0x000001E1AE74F160>, <sqlalchemy.ext.automap.measurement object at 0x000001E1AE74F1C0>, <sqlalchemy.ext.automap.measurement object at 0x000001E1AE74F220>, <sqlalchemy.ext.automap.measurement object at 0x000001E1AE74F280>, <sqlalchemy.ext.automap.measurement object at 0x000001E1AE74F2E0>, <sqlalchemy.ext.automap.measurement object at 0x000001E1AE74F340>, <sqlalchemy.ext.automap.measurement object at 0x000001E1AE74F3A0>, <sqlalchemy.ext.automap.measurement object at 0x000001E1AE74F400>, <sqlalchemy.ext.automap.measurement object at 0x000001E1AE74F460>, <sqlalchemy.ext.automap.measurement object at 0x000001E1AE74F4C0>, <sqlalchemy.ext.automap.measurement object at 0x000001E1AE74F520>, <sqlalchemy.ext.automap.measurement object at 0x000001E1AE74F580>, <sqlalchemy.ext.automap.measurement object at 0x000001E1AE74F5E0>, <sqlalchemy.ext.automap.measurement object at 0x000001E1AE74F640>, <sqlalchemy.ext.automap.measurement object at 0x000001E1AE74F6A0>, <sqlalchemy.ext.automap.measurement object at 0x000001E1AE74F700>, <sqlalchemy.ext.automap.measurement object at 0x000001E1AE74F760>, <sqlalchemy.ext.automap.measurement object at 0x000001E1AE74F7C0>, <sqlalchemy.ext.automap.measurement object at 0x000001E1AE74F820>, <sqlalchemy.ext.automap.measurement object at 0x000001E1AE74F880>, <sqlalchemy.ext.automap.measurement object at 0x000001E1AE74F8E0>, <sqlalchemy.ext.automap.measurement object at 0x000001E1AE74F940>, <sqlalchemy.ext.automap.measurement object at 0x000001E1AE74F9A0>, <sqlalchemy.ext.automap.measurement object at 0x000001E1AE74FA00>, <sqlalchemy.ext.automap.measurement object at 0x000001E1AE74FA60>, <sqlalchemy.ext.automap.measurement object at 0x000001E1AE74FAC0>, <sqlalchemy.ext.automap.measurement object at 0x000001E1AE74FB20>, <sqlalchemy.ext.automap.measurement object at 0x000001E1AE74FB80>, <sqlalchemy.ext.automap.measurement object at 0x000001E1AE74FBE0>, <sqlalchemy.ext.automap.measurement object at 0x000001E1AE74FC40>, <sqlalchemy.ext.automap.measurement object at 0x000001E1AE74FCA0>, <sqlalchemy.ext.automap.measurement object at 0x000001E1AE74FD00>, <sqlalchemy.ext.automap.measurement object at 0x000001E1AE74FD60>, <sqlalchemy.ext.automap.measurement object at 0x000001E1AE74FDC0>, <sqlalchemy.ext.automap.measurement object at 0x000001E1AE74FE20>, <sqlalchemy.ext.automap.measurement object at 0x000001E1AE74FE80>, <sqlalchemy.ext.automap.measurement object at 0x000001E1AE74FEE0>, <sqlalchemy.ext.automap.measurement object at 0x000001E1AE74FF40>, <sqlalchemy.ext.automap.measurement object at 0x000001E1AE74FFA0>, <sqlalchemy.ext.automap.measurement object at 0x000001E1AE74FFD0>, <sqlalchemy.ext.automap.measurement object at 0x000001E1AE75D0A0>, <sqlalchemy.ext.automap.measurement object at 0x000001E1AE75D100>, <sqlalchemy.ext.automap.measurement object at 0x000001E1AE75D160>, <sqlalchemy.ext.automap.measurement object at 0x000001E1AE75D1C0>, <sqlalchemy.ext.automap.measurement object at 0x000001E1AE75D220>, <sqlalchemy.ext.automap.measurement object at 0x000001E1AE75D280>, <sqlalchemy.ext.automap.measurement object at 0x000001E1AE75D2E0>, <sqlalchemy.ext.automap.measurement object at 0x000001E1AE75D340>, <sqlalchemy.ext.automap.measurement object at 0x000001E1AE75D3A0>, <sqlalchemy.ext.automap.measurement object at 0x000001E1AE75D400>, <sqlalchemy.ext.automap.measurement object at 0x000001E1AE75D460>, <sqlalchemy.ext.automap.measurement object at 0x000001E1AE75D4C0>, <sqlalchemy.ext.automap.measurement object at 0x000001E1AE75D520>, <sqlalchemy.ext.automap.measurement object at 0x000001E1AE75D580>, <sqlalchemy.ext.automap.measurement object at 0x000001E1AE75D5E0>, <sqlalchemy.ext.automap.measurement object at 0x000001E1AE75D640>, <sqlalchemy.ext.automap.measurement object at 0x000001E1AE75D6A0>, <sqlalchemy.ext.automap.measurement object at 0x000001E1AE75D700>, <sqlalchemy.ext.automap.measurement object at 0x000001E1AE75D760>, <sqlalchemy.ext.automap.measurement object at 0x000001E1AE75D7C0>, <sqlalchemy.ext.automap.measurement object at 0x000001E1AE75D820>, <sqlalchemy.ext.automap.measurement object at 0x000001E1AE75D880>, <sqlalchemy.ext.automap.measurement object at 0x000001E1AE75D8E0>, <sqlalchemy.ext.automap.measurement object at 0x000001E1AE75D940>, <sqlalchemy.ext.automap.measurement object at 0x000001E1AE75D9A0>, <sqlalchemy.ext.automap.measurement object at 0x000001E1AE75DA00>, <sqlalchemy.ext.automap.measurement object at 0x000001E1AE75DA60>, <sqlalchemy.ext.automap.measurement object at 0x000001E1AE75DAC0>, <sqlalchemy.ext.automap.measurement object at 0x000001E1AE75DB20>, <sqlalchemy.ext.automap.measurement object at 0x000001E1AE75DB80>, <sqlalchemy.ext.automap.measurement object at 0x000001E1AE75DBE0>, <sqlalchemy.ext.automap.measurement object at 0x000001E1AE75DC40>, <sqlalchemy.ext.automap.measurement object at 0x000001E1AE75DCA0>, <sqlalchemy.ext.automap.measurement object at 0x000001E1AE75DD00>, <sqlalchemy.ext.automap.measurement object at 0x000001E1AE75DD60>, <sqlalchemy.ext.automap.measurement object at 0x000001E1AE75DDC0>, <sqlalchemy.ext.automap.measurement object at 0x000001E1AE75DE20>, <sqlalchemy.ext.automap.measurement object at 0x000001E1AE75DE80>, <sqlalchemy.ext.automap.measurement object at 0x000001E1AE75DEE0>, <sqlalchemy.ext.automap.measurement object at 0x000001E1AE75DF40>, <sqlalchemy.ext.automap.measurement object at 0x000001E1AE75DFA0>, <sqlalchemy.ext.automap.measurement object at 0x000001E1AE75DFD0>, <sqlalchemy.ext.automap.measurement object at 0x000001E1AE76A0A0>, <sqlalchemy.ext.automap.measurement object at 0x000001E1AE76A100>, <sqlalchemy.ext.automap.measurement object at 0x000001E1AE76A160>, <sqlalchemy.ext.automap.measurement object at 0x000001E1AE76A1C0>, <sqlalchemy.ext.automap.measurement object at 0x000001E1AE76A220>, <sqlalchemy.ext.automap.measurement object at 0x000001E1AE76A280>, <sqlalchemy.ext.automap.measurement object at 0x000001E1AE76A2E0>, <sqlalchemy.ext.automap.measurement object at 0x000001E1AE76A340>, <sqlalchemy.ext.automap.measurement object at 0x000001E1AE76A3A0>, <sqlalchemy.ext.automap.measurement object at 0x000001E1AE76A400>, <sqlalchemy.ext.automap.measurement object at 0x000001E1AE76A460>, <sqlalchemy.ext.automap.measurement object at 0x000001E1AE76A4C0>, <sqlalchemy.ext.automap.measurement object at 0x000001E1AE76A520>, <sqlalchemy.ext.automap.measurement object at 0x000001E1AE76A580>, <sqlalchemy.ext.automap.measurement object at 0x000001E1AE76A5E0>, <sqlalchemy.ext.automap.measurement object at 0x000001E1AE76A640>, <sqlalchemy.ext.automap.measurement object at 0x000001E1AE76A6A0>, <sqlalchemy.ext.automap.measurement object at 0x000001E1AE76A700>, <sqlalchemy.ext.automap.measurement object at 0x000001E1AE76A760>, <sqlalchemy.ext.automap.measurement object at 0x000001E1AE76A7C0>, <sqlalchemy.ext.automap.measurement object at 0x000001E1AE76A820>, <sqlalchemy.ext.automap.measurement object at 0x000001E1AE76A880>, <sqlalchemy.ext.automap.measurement object at 0x000001E1AE76A8E0>, <sqlalchemy.ext.automap.measurement object at 0x000001E1AE76A940>, <sqlalchemy.ext.automap.measurement object at 0x000001E1AE76A9A0>, <sqlalchemy.ext.automap.measurement object at 0x000001E1AE76AA00>, <sqlalchemy.ext.automap.measurement object at 0x000001E1AE76AA60>, <sqlalchemy.ext.automap.measurement object at 0x000001E1AE76AAC0>, <sqlalchemy.ext.automap.measurement object at 0x000001E1AE76AB20>, <sqlalchemy.ext.automap.measurement object at 0x000001E1AE76AB80>, <sqlalchemy.ext.automap.measurement object at 0x000001E1AE76ABE0>, <sqlalchemy.ext.automap.measurement object at 0x000001E1AE76AC40>, <sqlalchemy.ext.automap.measurement object at 0x000001E1AE76ACA0>, <sqlalchemy.ext.automap.measurement object at 0x000001E1AE76AD00>, <sqlalchemy.ext.automap.measurement object at 0x000001E1AE76AD60>, <sqlalchemy.ext.automap.measurement object at 0x000001E1AE76ADC0>, <sqlalchemy.ext.automap.measurement object at 0x000001E1AE76AE20>, <sqlalchemy.ext.automap.measurement object at 0x000001E1AE76AE80>, <sqlalchemy.ext.automap.measurement object at 0x000001E1AE76AEE0>, <sqlalchemy.ext.automap.measurement object at 0x000001E1AE76AF40>, <sqlalchemy.ext.automap.measurement object at 0x000001E1AE76AFA0>, <sqlalchemy.ext.automap.measurement object at 0x000001E1AE76AFD0>, <sqlalchemy.ext.automap.measurement object at 0x000001E1AE7760A0>, <sqlalchemy.ext.automap.measurement object at 0x000001E1AE776100>, <sqlalchemy.ext.automap.measurement object at 0x000001E1AE776160>, <sqlalchemy.ext.automap.measurement object at 0x000001E1AE7761C0>, <sqlalchemy.ext.automap.measurement object at 0x000001E1AE776220>, <sqlalchemy.ext.automap.measurement object at 0x000001E1AE776280>, <sqlalchemy.ext.automap.measurement object at 0x000001E1AE7762E0>, <sqlalchemy.ext.automap.measurement object at 0x000001E1AE776340>, <sqlalchemy.ext.automap.measurement object at 0x000001E1AE7763A0>, <sqlalchemy.ext.automap.measurement object at 0x000001E1AE776400>, <sqlalchemy.ext.automap.measurement object at 0x000001E1AE776460>]"
     ]
    }
   ],
   "source": [
    "last_12mo_temp = session.query(Measurement).\\\n",
    "                filter(Measurement.date >= '2016-08-19').\\\n",
    "                filter(Measurement.station == most_active).statement\n",
    "\n",
    "\n",
    "stmt = session.query(Measurement).\\\n",
    "    filter(Measurement.date > \"2016-08-18\").\\\n",
    "    filter(Measurement.station == \"USC00519281\").statement\n",
    "df2 = pd.read_sql_query(stmt, session.bind)\n",
    "df2.head()"
   ]
  },
  {
   "cell_type": "code",
   "execution_count": null,
   "metadata": {},
   "outputs": [],
   "source": [
    "df_12mo_temp = pd.read_sql_query(last_12mo_temp, session.bind)\n",
    "df12mo_temp.head()"
   ]
  },
  {
   "cell_type": "markdown",
   "metadata": {},
   "source": [
    "# Close session"
   ]
  },
  {
   "cell_type": "code",
   "execution_count": null,
   "metadata": {},
   "outputs": [],
   "source": [
    "# Close Session\n",
    "session.close()"
   ]
  },
  {
   "cell_type": "code",
   "execution_count": null,
   "metadata": {},
   "outputs": [],
   "source": []
  }
 ],
 "metadata": {
  "anaconda-cloud": {},
  "kernel_info": {
   "name": "python3"
  },
  "kernelspec": {
   "display_name": "Python 3",
   "language": "python",
   "name": "python3"
  },
  "language_info": {
   "codemirror_mode": {
    "name": "ipython",
    "version": 3
   },
   "file_extension": ".py",
   "mimetype": "text/x-python",
   "name": "python",
   "nbconvert_exporter": "python",
   "pygments_lexer": "ipython3",
   "version": "3.8.5"
  },
  "nteract": {
   "version": "0.12.3"
  },
  "varInspector": {
   "cols": {
    "lenName": 16,
    "lenType": 16,
    "lenVar": 40
   },
   "kernels_config": {
    "python": {
     "delete_cmd_postfix": "",
     "delete_cmd_prefix": "del ",
     "library": "var_list.py",
     "varRefreshCmd": "print(var_dic_list())"
    },
    "r": {
     "delete_cmd_postfix": ") ",
     "delete_cmd_prefix": "rm(",
     "library": "var_list.r",
     "varRefreshCmd": "cat(var_dic_list()) "
    }
   },
   "types_to_exclude": [
    "module",
    "function",
    "builtin_function_or_method",
    "instance",
    "_Feature"
   ],
   "window_display": false
  }
 },
 "nbformat": 4,
 "nbformat_minor": 2
}
